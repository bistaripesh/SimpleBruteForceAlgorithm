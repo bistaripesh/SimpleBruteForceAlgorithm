{
 "cells": [
  {
   "cell_type": "code",
   "execution_count": 16,
   "metadata": {},
   "outputs": [],
   "source": [
    "##BRUTE FORCE ALGORITHM##"
   ]
  },
  {
   "cell_type": "code",
   "execution_count": 17,
   "metadata": {},
   "outputs": [],
   "source": [
    "#let say there is a farm. When farmer entered to the farm he saw 56 legs and 20 heads uncertain how many chicken/s\n",
    "#and pig/s are there so this algorithm goes through every different combination to find out the number of chicken/s and \n",
    "#the number of pig/s. This is the simple example of brute force algorithm\n",
    "\n",
    "def solve(numLegs,numHeads):\n",
    "    for numC in range ( 0 , numHeads+1):\n",
    "        numP = numHeads - numC\n",
    "        totalLegs = 2*numC + 4*numP\n",
    "        \n",
    "        if (totalLegs == numLegs):\n",
    "            return [numC,numP]\n",
    "       \n",
    "    return [None,None]\n",
    "        \n",
    "    \n"
   ]
  },
  {
   "cell_type": "code",
   "execution_count": 18,
   "metadata": {},
   "outputs": [
    {
     "data": {
      "text/plain": [
       "[12, 8]"
      ]
     },
     "execution_count": 18,
     "metadata": {},
     "output_type": "execute_result"
    }
   ],
   "source": [
    "#giving number of legs and noumber of heads in the farm \n",
    "solve(56,20)"
   ]
  },
  {
   "cell_type": "code",
   "execution_count": null,
   "metadata": {},
   "outputs": [],
   "source": []
  }
 ],
 "metadata": {
  "kernelspec": {
   "display_name": "Python 3",
   "language": "python",
   "name": "python3"
  },
  "language_info": {
   "codemirror_mode": {
    "name": "ipython",
    "version": 3
   },
   "file_extension": ".py",
   "mimetype": "text/x-python",
   "name": "python",
   "nbconvert_exporter": "python",
   "pygments_lexer": "ipython3",
   "version": "3.7.3"
  }
 },
 "nbformat": 4,
 "nbformat_minor": 2
}
